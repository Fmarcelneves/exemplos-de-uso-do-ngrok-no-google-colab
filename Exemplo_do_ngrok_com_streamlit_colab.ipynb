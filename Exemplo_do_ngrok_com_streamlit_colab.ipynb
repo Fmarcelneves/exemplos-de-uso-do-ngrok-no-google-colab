{
  "nbformat": 4,
  "nbformat_minor": 0,
  "metadata": {
    "colab": {
      "name": "Exemplo do ngrok com streamlit - colab.ipynb",
      "provenance": [],
      "toc_visible": true,
      "authorship_tag": "ABX9TyNLvePuYjG1NfT90RRazB1l",
      "include_colab_link": true
    },
    "kernelspec": {
      "name": "python3",
      "display_name": "Python 3"
    }
  },
  "cells": [
    {
      "cell_type": "markdown",
      "metadata": {
        "id": "view-in-github",
        "colab_type": "text"
      },
      "source": [
        "<a href=\"https://colab.research.google.com/github/Fmarcelneves/exemplos-de-uso-do-ngrok-no-google-colab/blob/main/Exemplo_do_ngrok_com_streamlit_colab.ipynb\" target=\"_parent\"><img src=\"https://colab.research.google.com/assets/colab-badge.svg\" alt=\"Open In Colab\"/></a>"
      ]
    },
    {
      "cell_type": "markdown",
      "metadata": {
        "id": "QKyEwRf99wSw"
      },
      "source": [
        "## Import and install packages "
      ]
    },
    {
      "cell_type": "code",
      "metadata": {
        "id": "805oRb430uA5"
      },
      "source": [
        "%%capture\n",
        "!pip install streamlit\n",
        "!pip install pyngrok==4.1.1\n",
        "from pyngrok import ngrok"
      ],
      "execution_count": null,
      "outputs": []
    },
    {
      "cell_type": "markdown",
      "metadata": {
        "id": "KVQGXB0u91GT"
      },
      "source": [
        "## Streamlit app example"
      ]
    },
    {
      "cell_type": "code",
      "metadata": {
        "colab": {
          "base_uri": "https://localhost:8080/"
        },
        "id": "d1SqpoAepuPj",
        "outputId": "79cc4a0b-dbc0-42e9-9c45-5e00332c43f1"
      },
      "source": [
        "%%writefile app.py\r\n",
        "import numpy as np\r\n",
        "import pandas as pd \r\n",
        "import streamlit as st\r\n",
        "\r\n",
        "st.title('Streamlit example - Uber pickups in NYC')\r\n",
        "\r\n",
        "DATE_COLUMN = 'date/time'\r\n",
        "DATA_URL = ('https://s3-us-west-2.amazonaws.com/'\r\n",
        "            'streamlit-demo-data/uber-raw-data-sep14.csv.gz')\r\n",
        "\r\n",
        "@st.cache\r\n",
        "def load_data(nrows):\r\n",
        "    data = pd.read_csv(DATA_URL, nrows=nrows)\r\n",
        "    lowercase = lambda x: str(x).lower()\r\n",
        "    data.rename(lowercase, axis='columns', inplace=True)\r\n",
        "    data[DATE_COLUMN] = pd.to_datetime(data[DATE_COLUMN])\r\n",
        "    return data\r\n",
        "\r\n",
        "data_load_state = st.text('Loading data...')\r\n",
        "data = load_data(10000)\r\n",
        "data_load_state.text(\"Done! (using st.cache)\")\r\n",
        "\r\n",
        "if st.checkbox('Show raw data'):\r\n",
        "    st.subheader('Raw data')\r\n",
        "    st.write(data)\r\n",
        "\r\n",
        "st.subheader('Number of pickups by hour')\r\n",
        "hist_values = np.histogram(data[DATE_COLUMN].dt.hour, bins=24, range=(0,24))[0]\r\n",
        "st.bar_chart(hist_values)\r\n",
        "\r\n",
        "# Some number in the range 0-23\r\n",
        "hour_to_filter = st.slider('hour', 0, 23, 17)\r\n",
        "filtered_data = data[data[DATE_COLUMN].dt.hour == hour_to_filter]\r\n",
        "\r\n",
        "st.subheader('Map of all pickups at %s:00' % hour_to_filter)\r\n",
        "st.map(filtered_data)"
      ],
      "execution_count": null,
      "outputs": [
        {
          "output_type": "stream",
          "text": [
            "Overwriting app.py\n"
          ],
          "name": "stdout"
        }
      ]
    },
    {
      "cell_type": "code",
      "metadata": {
        "id": "-pwhXRD2hNbi"
      },
      "source": [
        "!streamlit run --server.port 8050 app.py &>/dev/null&"
      ],
      "execution_count": null,
      "outputs": []
    },
    {
      "cell_type": "markdown",
      "metadata": {
        "id": "w8CK_5Oq1CG_"
      },
      "source": [
        "## ngrok"
      ]
    },
    {
      "cell_type": "code",
      "metadata": {
        "colab": {
          "base_uri": "https://localhost:8080/"
        },
        "id": "h3MiGCfYuvn9",
        "outputId": "2313bce9-804f-489e-accf-65af394df545"
      },
      "source": [
        "! ngrok authtoken xxxxxxxxxxxxxxxxxxxxxxxxxxxxx"
      ],
      "execution_count": null,
      "outputs": [
        {
          "output_type": "stream",
          "text": [
            "Authtoken saved to configuration file: /root/.ngrok2/ngrok.yml\n"
          ],
          "name": "stdout"
        }
      ]
    },
    {
      "cell_type": "code",
      "metadata": {
        "id": "H7rYEjD7uELg"
      },
      "source": [
        "# Open a HTTP tunnel on the port 8050\r\n",
        "public_url = ngrok.connect('8050')"
      ],
      "execution_count": null,
      "outputs": []
    },
    {
      "cell_type": "code",
      "metadata": {
        "id": "K8GvNtBGwC_u",
        "colab": {
          "base_uri": "https://localhost:8080/",
          "height": 35
        },
        "outputId": "07047504-97a4-4c19-fb99-5626179e8a7c"
      },
      "source": [
        "public_url"
      ],
      "execution_count": null,
      "outputs": [
        {
          "output_type": "execute_result",
          "data": {
            "application/vnd.google.colaboratory.intrinsic+json": {
              "type": "string"
            },
            "text/plain": [
              "'http://11bf30f0bb5c.ngrok.io'"
            ]
          },
          "metadata": {
            "tags": []
          },
          "execution_count": 8
        }
      ]
    },
    {
      "cell_type": "code",
      "metadata": {
        "id": "Rj_LTuiSsEcX"
      },
      "source": [
        "#use ngrok kill to kill the URL\n",
        "#ngrok.kill()"
      ],
      "execution_count": null,
      "outputs": []
    }
  ]
}