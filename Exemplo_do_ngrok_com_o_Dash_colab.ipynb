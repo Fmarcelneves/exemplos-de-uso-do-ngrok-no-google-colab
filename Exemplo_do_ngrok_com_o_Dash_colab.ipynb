{
  "nbformat": 4,
  "nbformat_minor": 0,
  "metadata": {
    "colab": {
      "name": "Exemplo do ngrok com o Dash - colab.ipynb",
      "provenance": [],
      "collapsed_sections": [],
      "authorship_tag": "ABX9TyOGLx+CcoQx8rT4elgn2mnB",
      "include_colab_link": true
    },
    "kernelspec": {
      "name": "python3",
      "display_name": "Python 3"
    }
  },
  "cells": [
    {
      "cell_type": "markdown",
      "metadata": {
        "id": "view-in-github",
        "colab_type": "text"
      },
      "source": [
        "<a href=\"https://colab.research.google.com/github/Fmarcelneves/exemplos-de-uso-do-ngrok-no-google-colab/blob/main/Exemplo_do_ngrok_com_o_Dash_colab.ipynb\" target=\"_parent\"><img src=\"https://colab.research.google.com/assets/colab-badge.svg\" alt=\"Open In Colab\"/></a>"
      ]
    },
    {
      "cell_type": "markdown",
      "metadata": {
        "id": "9bfAVnRTYX3-"
      },
      "source": [
        "##Install and import packages"
      ]
    },
    {
      "cell_type": "code",
      "metadata": {
        "colab": {
          "base_uri": "https://localhost:8080/"
        },
        "id": "qPxO4ZmWoEcE",
        "outputId": "891d0289-5ef1-4552-a540-157e550b6280"
      },
      "source": [
        "!pip install pyngrok==4.1.1\n",
        "from pyngrok import ngrok"
      ],
      "execution_count": null,
      "outputs": [
        {
          "output_type": "stream",
          "text": [
            "Collecting pyngrok==4.1.1\n",
            "  Downloading https://files.pythonhosted.org/packages/e4/a9/de2e15c92eb3aa4a2646ce3a7542317eb69ac47f667578ce8bf916320847/pyngrok-4.1.1.tar.gz\n",
            "Requirement already satisfied: future in /usr/local/lib/python3.6/dist-packages (from pyngrok==4.1.1) (0.16.0)\n",
            "Requirement already satisfied: PyYAML in /usr/local/lib/python3.6/dist-packages (from pyngrok==4.1.1) (3.13)\n",
            "Building wheels for collected packages: pyngrok\n",
            "  Building wheel for pyngrok (setup.py) ... \u001b[?25l\u001b[?25hdone\n",
            "  Created wheel for pyngrok: filename=pyngrok-4.1.1-cp36-none-any.whl size=15971 sha256=e51bdf5a530e3a3ef1e75e3638796072cf31850ba0b6f7be8f213bb39eeb2800\n",
            "  Stored in directory: /root/.cache/pip/wheels/97/71/0d/1695f7c8815c0beb3b5d9b35d6eec9243c87e6070fbe3977fa\n",
            "Successfully built pyngrok\n",
            "Installing collected packages: pyngrok\n",
            "Successfully installed pyngrok-4.1.1\n"
          ],
          "name": "stdout"
        }
      ]
    },
    {
      "cell_type": "code",
      "metadata": {
        "id": "loKpRkmWTKgo"
      },
      "source": [
        "%%capture\n",
        "import pandas as pd\n",
        "!pip install dash\n",
        "import dash\n",
        "!pip install jupyter-dash\n",
        "from jupyter_dash import JupyterDash\n",
        "import dash_core_components as dcc\n",
        "import dash_html_components as html\n",
        "import plotly.express as px\n",
        "import plotly.io as pio\n",
        "pio.templates.default = \"plotly_white\""
      ],
      "execution_count": null,
      "outputs": []
    },
    {
      "cell_type": "markdown",
      "metadata": {
        "id": "SfLan_B_bYUD"
      },
      "source": [
        "##Dash app example"
      ]
    },
    {
      "cell_type": "code",
      "metadata": {
        "colab": {
          "base_uri": "https://localhost:8080/",
          "height": 85
        },
        "id": "ULaF5kouxPK_",
        "outputId": "3727f457-79d8-425e-cd3d-de53b805ea6c"
      },
      "source": [
        "external_stylesheets = ['https://codepen.io/chriddyp/pen/bWLwgP.css']\n",
        "\n",
        "app = JupyterDash(__name__, external_stylesheets=external_stylesheets)\n",
        "\n",
        "#Dataset\n",
        "data = pd.read_csv(\"http://s3-us-west-2.amazonaws.com/streamlit-demo-data/uber-raw-data-sep14.csv.gz\", nrows= 10000)\n",
        "data['Date/Time'] = pd.to_datetime(data['Date/Time'])\n",
        "data['Day'] = data['Date/Time'].dt.day\n",
        "data['Hour'] = data['Date/Time'].dt.hour\n",
        "data['Size'] = 1                            \n",
        "data = data.drop(['Date/Time'], axis=1)\n",
        "\n",
        "content_mark = dcc.Markdown('''\n",
        "Dash example - Uber pickups in NYC\n",
        "''')\n",
        "\n",
        "fig = px.histogram(data, x=\"Hour\")\n",
        "fig.update_layout(bargap=0.1)\n",
        "\n",
        "fig2 = px.scatter_mapbox(data, lat='Lat', lon='Lon', size='Size', color='Hour',\n",
        "                        color_continuous_scale=px.colors.sequential.Sunset, size_max=5, \n",
        "                        zoom=12,mapbox_style='carto-positron', height=400)\n",
        "\n",
        "app.layout = html.Div([\n",
        "    html.H1('Dash example - Uber pickups in NYC'),                 \n",
        "    html.Div([\n",
        "        dcc.Graph(\n",
        "          id='histogram',\n",
        "          figure=fig\n",
        "        )\n",
        "    ]),\n",
        "    html.Div([\n",
        "        dcc.Graph( \n",
        "          id='hour-uber',\n",
        "          figure=fig2\n",
        "        )\n",
        "    ])\n",
        "])\n",
        "\n",
        "if __name__ == '__main__':\n",
        "    app.run_server(port=8050, debug=False, mode = \"external\")"
      ],
      "execution_count": null,
      "outputs": [
        {
          "output_type": "stream",
          "text": [
            " * Running on http://127.0.0.1:8050/ (Press CTRL+C to quit)\n",
            "127.0.0.1 - - [12/Jan/2021 13:25:49] \"\u001b[37mGET /_alive_3f927531-a715-4f6d-a830-e2d77ad5555c HTTP/1.1\u001b[0m\" 200 -\n"
          ],
          "name": "stderr"
        },
        {
          "output_type": "stream",
          "text": [
            "Dash app running on:\n"
          ],
          "name": "stdout"
        },
        {
          "output_type": "display_data",
          "data": {
            "application/javascript": [
              "(async (port, path, text, element) => {\n",
              "    if (!google.colab.kernel.accessAllowed) {\n",
              "      return;\n",
              "    }\n",
              "    element.appendChild(document.createTextNode(''));\n",
              "    const url = await google.colab.kernel.proxyPort(port);\n",
              "    const anchor = document.createElement('a');\n",
              "    anchor.href = url + path;\n",
              "    anchor.target = '_blank';\n",
              "    anchor.setAttribute('data-href', url + path);\n",
              "    anchor.textContent = text;\n",
              "    element.appendChild(anchor);\n",
              "  })(8050, \"/\", \"http://127.0.0.1:8050/\", window.element)"
            ],
            "text/plain": [
              "<IPython.core.display.Javascript object>"
            ]
          },
          "metadata": {
            "tags": []
          }
        }
      ]
    },
    {
      "cell_type": "markdown",
      "metadata": {
        "id": "w8CK_5Oq1CG_"
      },
      "source": [
        "## ngrok"
      ]
    },
    {
      "cell_type": "code",
      "metadata": {
        "colab": {
          "base_uri": "https://localhost:8080/"
        },
        "id": "h3MiGCfYuvn9",
        "outputId": "d757e431-7a26-44b5-af01-ade8d00baeff"
      },
      "source": [
        "! ngrok authtoken xxxxxxxxxxxxxxxxxxxxx"
      ],
      "execution_count": null,
      "outputs": [
        {
          "output_type": "stream",
          "text": [
            "Authtoken saved to configuration file: /root/.ngrok2/ngrok.yml\n"
          ],
          "name": "stdout"
        }
      ]
    },
    {
      "cell_type": "code",
      "metadata": {
        "id": "H7rYEjD7uELg"
      },
      "source": [
        "# Open a HTTP tunnel on the port 8050\r\n",
        "public_url = ngrok.connect('8050')"
      ],
      "execution_count": null,
      "outputs": []
    },
    {
      "cell_type": "code",
      "metadata": {
        "id": "K8GvNtBGwC_u",
        "colab": {
          "base_uri": "https://localhost:8080/",
          "height": 35
        },
        "outputId": "51635b83-a838-4740-f4b4-ea4c00e6a56c"
      },
      "source": [
        "public_url"
      ],
      "execution_count": null,
      "outputs": [
        {
          "output_type": "execute_result",
          "data": {
            "application/vnd.google.colaboratory.intrinsic+json": {
              "type": "string"
            },
            "text/plain": [
              "'http://dcfc2d500f5e.ngrok.io'"
            ]
          },
          "metadata": {
            "tags": []
          },
          "execution_count": 8
        }
      ]
    },
    {
      "cell_type": "code",
      "metadata": {
        "id": "Rj_LTuiSsEcX"
      },
      "source": [
        "#use ngrok kill to kill the URL\n",
        "#ngrok.kill()"
      ],
      "execution_count": null,
      "outputs": []
    }
  ]
}